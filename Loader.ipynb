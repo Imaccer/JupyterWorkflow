{
 "cells": [
  {
   "cell_type": "code",
   "execution_count": 1,
   "metadata": {},
   "outputs": [],
   "source": [
    "import pandas as pd"
   ]
  },
  {
   "cell_type": "code",
   "execution_count": 2,
   "metadata": {},
   "outputs": [],
   "source": [
    "df=pd.read_csv('Freemont.csv')\n"
   ]
  },
  {
   "cell_type": "code",
   "execution_count": 3,
   "metadata": {},
   "outputs": [
    {
     "data": {
      "text/html": [
       "<div>\n",
       "<style scoped>\n",
       "    .dataframe tbody tr th:only-of-type {\n",
       "        vertical-align: middle;\n",
       "    }\n",
       "\n",
       "    .dataframe tbody tr th {\n",
       "        vertical-align: top;\n",
       "    }\n",
       "\n",
       "    .dataframe thead th {\n",
       "        text-align: right;\n",
       "    }\n",
       "</style>\n",
       "<table border=\"1\" class=\"dataframe\">\n",
       "  <thead>\n",
       "    <tr style=\"text-align: right;\">\n",
       "      <th></th>\n",
       "      <th>Date</th>\n",
       "      <th>Fremont Bridge East Sidewalk</th>\n",
       "      <th>Fremont Bridge West Sidewalk</th>\n",
       "    </tr>\n",
       "  </thead>\n",
       "  <tbody>\n",
       "    <tr>\n",
       "      <th>0</th>\n",
       "      <td>02/24/2015 02:00:00 AM</td>\n",
       "      <td>3.0</td>\n",
       "      <td>3.0</td>\n",
       "    </tr>\n",
       "    <tr>\n",
       "      <th>1</th>\n",
       "      <td>01/01/2019 12:00:00 AM</td>\n",
       "      <td>0.0</td>\n",
       "      <td>9.0</td>\n",
       "    </tr>\n",
       "    <tr>\n",
       "      <th>2</th>\n",
       "      <td>01/01/2019 01:00:00 AM</td>\n",
       "      <td>2.0</td>\n",
       "      <td>22.0</td>\n",
       "    </tr>\n",
       "    <tr>\n",
       "      <th>3</th>\n",
       "      <td>02/15/2016 12:00:00 AM</td>\n",
       "      <td>3.0</td>\n",
       "      <td>3.0</td>\n",
       "    </tr>\n",
       "    <tr>\n",
       "      <th>4</th>\n",
       "      <td>01/01/2019 02:00:00 AM</td>\n",
       "      <td>1.0</td>\n",
       "      <td>11.0</td>\n",
       "    </tr>\n",
       "  </tbody>\n",
       "</table>\n",
       "</div>"
      ],
      "text/plain": [
       "                     Date  Fremont Bridge East Sidewalk  \\\n",
       "0  02/24/2015 02:00:00 AM                           3.0   \n",
       "1  01/01/2019 12:00:00 AM                           0.0   \n",
       "2  01/01/2019 01:00:00 AM                           2.0   \n",
       "3  02/15/2016 12:00:00 AM                           3.0   \n",
       "4  01/01/2019 02:00:00 AM                           1.0   \n",
       "\n",
       "   Fremont Bridge West Sidewalk  \n",
       "0                           3.0  \n",
       "1                           9.0  \n",
       "2                          22.0  \n",
       "3                           3.0  \n",
       "4                          11.0  "
      ]
     },
     "execution_count": 3,
     "metadata": {},
     "output_type": "execute_result"
    }
   ],
   "source": [
    "df.head()"
   ]
  },
  {
   "cell_type": "code",
   "execution_count": 6,
   "metadata": {},
   "outputs": [
    {
     "data": {
      "text/plain": [
       "1.0      2902\n",
       "2.0      2819\n",
       "0.0      2329\n",
       "3.0      2287\n",
       "4.0      1874\n",
       "5.0      1599\n",
       "6.0      1289\n",
       "7.0      1184\n",
       "8.0      1027\n",
       "9.0       889\n",
       "10.0      841\n",
       "11.0      808\n",
       "12.0      766\n",
       "15.0      701\n",
       "13.0      696\n",
       "14.0      645\n",
       "17.0      630\n",
       "18.0      621\n",
       "19.0      595\n",
       "20.0      580\n",
       "16.0      574\n",
       "26.0      563\n",
       "21.0      562\n",
       "23.0      553\n",
       "25.0      549\n",
       "22.0      539\n",
       "27.0      520\n",
       "24.0      519\n",
       "28.0      517\n",
       "30.0      479\n",
       "         ... \n",
       "455.0       1\n",
       "442.0       1\n",
       "439.0       1\n",
       "537.0       1\n",
       "487.0       1\n",
       "499.0       1\n",
       "519.0       1\n",
       "451.0       1\n",
       "504.0       1\n",
       "465.0       1\n",
       "626.0       1\n",
       "553.0       1\n",
       "490.0       1\n",
       "495.0       1\n",
       "449.0       1\n",
       "467.0       1\n",
       "463.0       1\n",
       "491.0       1\n",
       "517.0       1\n",
       "488.0       1\n",
       "698.0       1\n",
       "412.0       1\n",
       "427.0       1\n",
       "447.0       1\n",
       "541.0       1\n",
       "556.0       1\n",
       "560.0       1\n",
       "428.0       1\n",
       "416.0       1\n",
       "526.0       1\n",
       "Name: Fremont Bridge East Sidewalk, Length: 493, dtype: int64"
      ]
     },
     "execution_count": 6,
     "metadata": {},
     "output_type": "execute_result"
    }
   ],
   "source": [
    "df['Fremont Bridge East Sidewalk'].value_counts()\n"
   ]
  },
  {
   "cell_type": "code",
   "execution_count": null,
   "metadata": {},
   "outputs": [],
   "source": []
  }
 ],
 "metadata": {
  "kernelspec": {
   "display_name": "Python 3",
   "language": "python",
   "name": "python3"
  },
  "language_info": {
   "codemirror_mode": {
    "name": "ipython",
    "version": 3
   },
   "file_extension": ".py",
   "mimetype": "text/x-python",
   "name": "python",
   "nbconvert_exporter": "python",
   "pygments_lexer": "ipython3",
   "version": "3.6.7"
  }
 },
 "nbformat": 4,
 "nbformat_minor": 4
}
